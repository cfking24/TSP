{
 "cells": [
  {
   "cell_type": "code",
   "execution_count": 4,
   "metadata": {},
   "outputs": [
    {
     "name": "stdout",
     "output_type": "stream",
     "text": [
      "51269.07999999997\n",
      "Time limit reached.\n"
     ]
    },
    {
     "ename": "ValueError",
     "evalue": "too many values to unpack (expected 2)",
     "output_type": "error",
     "traceback": [
      "\u001b[1;31m---------------------------------------------------------------------------\u001b[0m",
      "\u001b[1;31mValueError\u001b[0m                                Traceback (most recent call last)",
      "Cell \u001b[1;32mIn[4], line 12\u001b[0m\n\u001b[0;32m      9\u001b[0m \u001b[38;5;28mprint\u001b[39m(initialCost)\n\u001b[0;32m     11\u001b[0m sa \u001b[38;5;241m=\u001b[39m SimulatedAnnealing(tspNonEu,cooling_rate\u001b[38;5;241m=\u001b[39m\u001b[38;5;241m0.99995\u001b[39m,num_iterations\u001b[38;5;241m=\u001b[39m\u001b[38;5;241m100000\u001b[39m)\n\u001b[1;32m---> 12\u001b[0m best_solution, costs \u001b[38;5;241m=\u001b[39m sa\u001b[38;5;241m.\u001b[39mrun(time_limit\u001b[38;5;241m=\u001b[39m\u001b[38;5;241m10\u001b[39m)\n\u001b[0;32m     13\u001b[0m \u001b[38;5;66;03m#print(best_solution)\u001b[39;00m\n\u001b[0;32m     15\u001b[0m cost \u001b[38;5;241m=\u001b[39m tspNonEu\u001b[38;5;241m.\u001b[39msolutionCheck(best_solution)\n",
      "\u001b[1;31mValueError\u001b[0m: too many values to unpack (expected 2)"
     ]
    }
   ],
   "source": [
    "from src.tspInstance import tspInstance\n",
    "from src.simulatedAnnealing import SimulatedAnnealing\n",
    "\n",
    "tspNonEu = tspInstance()\n",
    "tspNonEu.reader('C:\\\\Users\\\\Conor King\\\\Documents\\\\School\\\\EEC 289Q\\\\TSP\\\\TSP\\\\data\\\\1000_euclidianDistance.txt')\n",
    "\n",
    "initialSol = tspNonEu.solutionGen()\n",
    "initialCost = tspNonEu.solutionCheck(initialSol)\n",
    "print(initialCost)\n",
    "\n",
    "sa = SimulatedAnnealing(tspNonEu,cooling_rate=0.99995,num_iterations=100000)\n",
    "best_solution = sa.run(time_limit=10)\n",
    "#print(best_solution)\n",
    "\n",
    "cost = tspNonEu.solutionCheck(best_solution)\n",
    "print(cost)\n",
    "sa.plot_costs()"
   ]
  },
  {
   "cell_type": "code",
   "execution_count": 11,
   "metadata": {},
   "outputs": [
    {
     "name": "stdout",
     "output_type": "stream",
     "text": [
      "37876.24999999999\n"
     ]
    }
   ],
   "source": [
    "print(tspNonEu.solutionCheck(sa.best_solution))"
   ]
  }
 ],
 "metadata": {
  "kernelspec": {
   "display_name": "Python 3",
   "language": "python",
   "name": "python3"
  },
  "language_info": {
   "codemirror_mode": {
    "name": "ipython",
    "version": 3
   },
   "file_extension": ".py",
   "mimetype": "text/x-python",
   "name": "python",
   "nbconvert_exporter": "python",
   "pygments_lexer": "ipython3",
   "version": "3.10.11"
  }
 },
 "nbformat": 4,
 "nbformat_minor": 2
}
