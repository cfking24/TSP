{
 "cells": [
  {
   "cell_type": "code",
   "execution_count": 1,
   "metadata": {},
   "outputs": [
    {
     "name": "stdout",
     "output_type": "stream",
     "text": [
      "51704.72000000002\n",
      "Time limit reached.\n",
      "49298.779999999984\n"
     ]
    }
   ],
   "source": [
    "from src.tspInstance import tspInstance\n",
    "from src.simulatedAnnealing import SimulatedAnnealing\n",
    "\n",
    "tspNonEu = tspInstance()\n",
    "tspNonEu.reader('C:\\\\Users\\\\Conor King\\\\Documents\\\\School\\\\EEC 289Q\\\\TSP\\\\TSP\\\\data\\\\1000_euclidianDistance.txt')\n",
    "\n",
    "initialSol = tspNonEu.solutionGen()\n",
    "initialCost = tspNonEu.solutionCheck(initialSol)\n",
    "print(initialCost)\n",
    "\n",
    "sa = SimulatedAnnealing(tspNonEu,cooling_rate=0.999995,num_iterations=1000000)\n",
    "best_solution = sa.run(time_limit=10)\n",
    "#print(best_solution)\n",
    "\n",
    "cost = tspNonEu.solutionCheck(best_solution)\n",
    "print(cost)"
   ]
  },
  {
   "cell_type": "code",
   "execution_count": 11,
   "metadata": {},
   "outputs": [
    {
     "name": "stdout",
     "output_type": "stream",
     "text": [
      "37876.24999999999\n"
     ]
    }
   ],
   "source": [
    "print(tspNonEu.solutionCheck(sa.best_solution))"
   ]
  }
 ],
 "metadata": {
  "kernelspec": {
   "display_name": "Python 3",
   "language": "python",
   "name": "python3"
  },
  "language_info": {
   "codemirror_mode": {
    "name": "ipython",
    "version": 3
   },
   "file_extension": ".py",
   "mimetype": "text/x-python",
   "name": "python",
   "nbconvert_exporter": "python",
   "pygments_lexer": "ipython3",
   "version": "3.10.11"
  }
 },
 "nbformat": 4,
 "nbformat_minor": 2
}
