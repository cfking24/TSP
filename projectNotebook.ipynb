{
 "cells": [
  {
   "cell_type": "code",
   "execution_count": 24,
   "metadata": {},
   "outputs": [
    {
     "name": "stdout",
     "output_type": "stream",
     "text": [
      "50134.25000000005\n"
     ]
    },
    {
     "data": {
      "text/plain": [
       "True"
      ]
     },
     "execution_count": 24,
     "metadata": {},
     "output_type": "execute_result"
    }
   ],
   "source": [
    "from src.tspInstance import tspInstance\n",
    "\n",
    "tspNonEu = tspInstance()\n",
    "tspNonEu.reader('C:\\\\Users\\\\Conor King\\\\Documents\\\\School\\\\EEC 289Q\\\\TSP\\\\TSP\\\\data\\\\1000_randomDistance.txt')\n",
    "\n",
    "randSol = tspNonEu.solutionGen()\n",
    "#print(randSol)\n",
    "\n",
    "cost = tspNonEu.solutionCheck(randSol)\n",
    "print(cost)\n",
    "\n",
    "tspNonEu.bestSolution(randSol)\n",
    "#print(tspNonEu.best_solution)"
   ]
  }
 ],
 "metadata": {
  "kernelspec": {
   "display_name": "Python 3",
   "language": "python",
   "name": "python3"
  },
  "language_info": {
   "codemirror_mode": {
    "name": "ipython",
    "version": 3
   },
   "file_extension": ".py",
   "mimetype": "text/x-python",
   "name": "python",
   "nbconvert_exporter": "python",
   "pygments_lexer": "ipython3",
   "version": "3.10.11"
  }
 },
 "nbformat": 4,
 "nbformat_minor": 2
}
